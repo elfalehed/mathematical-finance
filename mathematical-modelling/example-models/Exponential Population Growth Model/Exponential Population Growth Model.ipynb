{
 "cells": [
  {
   "cell_type": "code",
   "execution_count": null,
   "id": "37a0e3a8",
   "metadata": {},
   "outputs": [],
   "source": [
    "# Sample 1: Exponential Population Growth Model\n",
    "\n",
    "# Import necessary libraries\n",
    "import numpy as np\n",
    "import matplotlib.pyplot as plt\n",
    "\n",
    "# Define the exponential growth function\n",
    "def exponential_growth(P0, r, t):\n",
    "    \"\"\"\n",
    "    P0: initial population\n",
    "    r: growth rate\n",
    "    t: time (array or single value)\n",
    "    \"\"\"\n",
    "    return P0 * np.exp(r * t)\n",
    "\n",
    "# Define parameters\n",
    "P0 = 1000  # initial population\n",
    "r = 0.1    # growth rate (10% per time unit)\n",
    "t = np.linspace(0, 50, 500)  # time from 0 to 50 units\n",
    "\n",
    "# Calculate population over time\n",
    "population = exponential_growth(P0, r, t)\n",
    "\n",
    "# Plot the results\n",
    "plt.figure(figsize=(10, 6))\n",
    "plt.plot(t, population, label='Population Growth')\n",
    "plt.title('Exponential Population Growth')\n",
    "plt.xlabel('Time')\n",
    "plt.ylabel('Population')\n",
    "plt.legend()\n",
    "plt.grid(True)\n",
    "plt.show()\n"
   ]
  }
 ],
 "metadata": {
  "kernelspec": {
   "display_name": "Python 3",
   "language": "python",
   "name": "python3"
  },
  "language_info": {
   "codemirror_mode": {
    "name": "ipython",
    "version": 3
   },
   "file_extension": ".py",
   "mimetype": "text/x-python",
   "name": "python",
   "nbconvert_exporter": "python",
   "pygments_lexer": "ipython3",
   "version": "3.8.8"
  }
 },
 "nbformat": 4,
 "nbformat_minor": 5
}
