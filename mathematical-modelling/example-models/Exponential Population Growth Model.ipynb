# Sample 1: Exponential Population Growth Model

# Import necessary libraries
import numpy as np
import matplotlib.pyplot as plt

# Define the exponential growth function
def exponential_growth(P0, r, t):
    """
    P0: initial population
    r: growth rate
    t: time (array or single value)
    """
    return P0 * np.exp(r * t)

# Define parameters
P0 = 1000  # initial population
r = 0.1    # growth rate (10% per time unit)
t = np.linspace(0, 50, 500)  # time from 0 to 50 units

# Calculate population over time
population = exponential_growth(P0, r, t)

# Plot the results
plt.figure(figsize=(10, 6))
plt.plot(t, population, label='Population Growth')
plt.title('Exponential Population Growth')
plt.xlabel('Time')
plt.ylabel('Population')
plt.legend()
plt.grid(True)
plt.show()

